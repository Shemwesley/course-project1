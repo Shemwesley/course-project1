{
 "cells": [
  {
   "cell_type": "markdown",
   "id": "26002adc-0855-4238-a0c8-da417b3f16a7",
   "metadata": {},
   "source": [
    "MATERIAL SCIENCE AND ENGINEERING\n",
    "\n",
    "WESLEY SHEM TEI\n",
    "\n",
    "11079425\n",
    "\n",
    "MTEN"
   ]
  },
  {
   "cell_type": "code",
   "execution_count": 1,
   "id": "57c6bc03-c30b-4e5f-bf36-b5d6b4c0f4d7",
   "metadata": {},
   "outputs": [],
   "source": [
    "import pandas as pd"
   ]
  },
  {
   "cell_type": "code",
   "execution_count": 2,
   "id": "cacda685-7480-42be-aa93-8b177d780e25",
   "metadata": {},
   "outputs": [
    {
     "ename": "ModuleNotFoundError",
     "evalue": "No module named 'matplotlib'",
     "output_type": "error",
     "traceback": [
      "\u001b[1;31m---------------------------------------------------------------------------\u001b[0m",
      "\u001b[1;31mModuleNotFoundError\u001b[0m                       Traceback (most recent call last)",
      "Cell \u001b[1;32mIn[2], line 1\u001b[0m\n\u001b[1;32m----> 1\u001b[0m \u001b[38;5;28;01mimport\u001b[39;00m \u001b[38;5;21;01mmatplotlib\u001b[39;00m \u001b[38;5;28;01mas\u001b[39;00m \u001b[38;5;21;01mmd\u001b[39;00m\n",
      "\u001b[1;31mModuleNotFoundError\u001b[0m: No module named 'matplotlib'"
     ]
    }
   ],
   "source": [
    "import matplotlib as md"
   ]
  },
  {
   "cell_type": "code",
   "execution_count": null,
   "id": "f0244f91-55cc-410b-ae1a-c1604a898a9a",
   "metadata": {},
   "outputs": [],
   "source": [
    "import numpy as np"
   ]
  },
  {
   "cell_type": "code",
   "execution_count": null,
   "id": "63a5121b-2903-4564-9931-93220f03e55b",
   "metadata": {},
   "outputs": [],
   "source": [
    " dataset=pd.read_csv(\"red_wine.csv\")"
   ]
  },
  {
   "cell_type": "code",
   "execution_count": null,
   "id": "4232530e-b907-4868-8bec-31941b58fbe0",
   "metadata": {},
   "outputs": [],
   "source": [
    "dataset"
   ]
  },
  {
   "cell_type": "code",
   "execution_count": null,
   "id": "dc9fe8d0-6dbc-49b4-88a8-ca58f134f917",
   "metadata": {},
   "outputs": [],
   "source": [
    "dataset.head(10)"
   ]
  },
  {
   "cell_type": "code",
   "execution_count": null,
   "id": "d78d9841-c6c7-48da-9fef-d575d997a50e",
   "metadata": {},
   "outputs": [],
   "source": [
    "dataset.tail(20)"
   ]
  },
  {
   "cell_type": "code",
   "execution_count": null,
   "id": "8234f50b-b925-4c60-9c75-da2b0be5751a",
   "metadata": {},
   "outputs": [],
   "source": [
    "dataset.info()"
   ]
  },
  {
   "cell_type": "code",
   "execution_count": null,
   "id": "8da320d0-bfd8-4f08-86d9-3e35d7da51da",
   "metadata": {},
   "outputs": [],
   "source": [
    "dataset.describe()"
   ]
  },
  {
   "cell_type": "code",
   "execution_count": null,
   "id": "ea0cf1c8-464a-4d4c-ae30-4041af05967d",
   "metadata": {},
   "outputs": [],
   "source": [
    "dataset.shape"
   ]
  },
  {
   "cell_type": "code",
   "execution_count": null,
   "id": "86fbbedc-572d-43bd-849b-85414e57a28a",
   "metadata": {},
   "outputs": [],
   "source": [
    "dataset.size"
   ]
  },
  {
   "cell_type": "code",
   "execution_count": null,
   "id": "5dffed6e-f5f7-4589-a25c-cc250f0feaa4",
   "metadata": {},
   "outputs": [],
   "source": [
    "dataset.corr()"
   ]
  },
  {
   "cell_type": "code",
   "execution_count": null,
   "id": "2565b69a-59d2-4bef-9238-13ca4b921954",
   "metadata": {},
   "outputs": [],
   "source": [
    "import matplotlib.pyplot as plt"
   ]
  },
  {
   "cell_type": "code",
   "execution_count": null,
   "id": "af27a8ce-f6a6-438e-b3f6-3b4639b79728",
   "metadata": {},
   "outputs": [],
   "source": [
    "plt.figure(\"1599,12\")"
   ]
  },
  {
   "cell_type": "code",
   "execution_count": null,
   "id": "f51f587a-16f6-4285-b66d-0dae8d3456ac",
   "metadata": {},
   "outputs": [],
   "source": [
    "plt.plot(dataset)"
   ]
  },
  {
   "cell_type": "code",
   "execution_count": null,
   "id": "eb470e5b-d1dd-45f9-ba66-95443ee54b7e",
   "metadata": {},
   "outputs": [],
   "source": [
    "#Scatter diagram of residual sugar and fixed sugar"
   ]
  },
  {
   "cell_type": "code",
   "execution_count": null,
   "id": "1500a645-60b2-4290-a481-12f34dda81a3",
   "metadata": {},
   "outputs": [],
   "source": [
    "plt.scatter(dataset['residual sugar'],dataset['fixed acidity'])\n",
    "plt.xlabel('residual sugar')\n",
    "plt.ylabel('fixed acidity')\n",
    "plt.title ('Relationship between residual sugar and fixed acidity')\n",
    "plt.show()"
   ]
  },
  {
   "cell_type": "code",
   "execution_count": null,
   "id": "67ec2036-8cbf-4fc4-a9f6-83adebd6e018",
   "metadata": {},
   "outputs": [],
   "source": [
    "#Barchart of volatile acidity and equality"
   ]
  },
  {
   "cell_type": "code",
   "execution_count": null,
   "id": "5b958e49-3ded-459e-b33e-fc503787cbe0",
   "metadata": {},
   "outputs": [],
   "source": [
    "a = (dataset['quality'])\n",
    "b =(dataset['volatile acidity'])\n",
    "plt.xlabel ('quality')\n",
    "plt.ylabel('volatile acidity')\n",
    "plt.bar(x,y)\n",
    "plt.title('Relationship between volatile acidity and quality')\n",
    "plt.show()"
   ]
  },
  {
   "cell_type": "markdown",
   "id": "34986998-b940-4c88-accc-aa06eb330e46",
   "metadata": {},
   "source": [
    "# BAR GRAPH DISTRIBUTION OF VOLATILE ACIDITY\n"
   ]
  },
  {
   "cell_type": "markdown",
   "id": "b281b4bf-c4ef-4562-b569-28db52ce8fd0",
   "metadata": {},
   "source": [
    "## Introduction"
   ]
  },
  {
   "cell_type": "markdown",
   "id": "5f7fd5b4-9a5c-4c12-abe3-654969a045e9",
   "metadata": {},
   "source": [
    "This report illustrates the correlation between volatile acidity and quality using a bar chart. The vertical-y-axis represents volatile acidity, ranging from 0.0 to 1.6, while the horizontal-x-axis depicts quality, ranging from 0 to 8.\n",
    "\n",
    "\n",
    "\n",
    "\n",
    "\n"
   ]
  },
  {
   "cell_type": "markdown",
   "id": "1f317a97-2551-448d-b719-462d38c787b3",
   "metadata": {},
   "source": [
    "## Body"
   ]
  },
  {
   "cell_type": "markdown",
   "id": "93f08cb1-e614-4c12-95e5-844873d74dce",
   "metadata": {},
   "source": [
    "The graph indicates that the quality of red wine isn't linked to volatile acidity. Therefore, the relationship between wine quality and volatile acidity isn't linear. The highest volatile acidity corresponds to the lowest wine quality, suggesting an inverse association. Consequently, there's no discernible pattern in the plotting, as not all values follow a consistent logic.\n",
    "\n",
    "\n",
    "\n",
    "\n",
    "\n"
   ]
  },
  {
   "cell_type": "markdown",
   "id": "644caf3e-65b4-4c53-91c3-a7cce02eeed6",
   "metadata": {},
   "source": [
    "## Conclusion"
   ]
  },
  {
   "cell_type": "markdown",
   "id": "00f8f272-b77b-4645-94f3-f2e163d6a339",
   "metadata": {},
   "source": [
    "In summary, the bar chart visually represents the quality of red wine alongside its volatile acidity. However, it appears that volatile acidity doesn't significantly impact the quality of the red wine.\n",
    "\n",
    "\n",
    "\n",
    "\n",
    "\n",
    "\n"
   ]
  },
  {
   "cell_type": "code",
   "execution_count": null,
   "id": "8aa9935c-e9e9-4a34-ad09-ac1de7b57cb8",
   "metadata": {},
   "outputs": [],
   "source": []
  }
 ],
 "metadata": {
  "kernelspec": {
   "display_name": "Python 3 (ipykernel)",
   "language": "python",
   "name": "python3"
  },
  "language_info": {
   "codemirror_mode": {
    "name": "ipython",
    "version": 3
   },
   "file_extension": ".py",
   "mimetype": "text/x-python",
   "name": "python",
   "nbconvert_exporter": "python",
   "pygments_lexer": "ipython3",
   "version": "3.12.0"
  }
 },
 "nbformat": 4,
 "nbformat_minor": 5
}
